{
 "cells": [
  {
   "cell_type": "code",
   "execution_count": null,
   "id": "occasional-certification",
   "metadata": {},
   "outputs": [],
   "source": [
    "%config Completer.use_jedi = False"
   ]
  },
  {
   "cell_type": "code",
   "execution_count": null,
   "id": "verbal-platform",
   "metadata": {},
   "outputs": [],
   "source": [
    "%run sample_graph.py gplus/gplus.txt"
   ]
  },
  {
   "cell_type": "code",
   "execution_count": null,
   "id": "acute-pattern",
   "metadata": {},
   "outputs": [],
   "source": [
    "sample_graph = sample_connected_component(2000)\n",
    "nx.write_edgelist(sample_graph, \"twitter/twitters2.txt\", data=False)"
   ]
  },
  {
   "cell_type": "code",
   "execution_count": null,
   "id": "reserved-score",
   "metadata": {},
   "outputs": [],
   "source": [
    "sample_graph = sample_connected_component(4000)\n",
    "nx.write_edgelist(sample_graph, \"twitter/twitters4.txt\", data=False)"
   ]
  },
  {
   "cell_type": "code",
   "execution_count": null,
   "id": "generic-drinking",
   "metadata": {},
   "outputs": [],
   "source": [
    "sample_graph = sample_connected_component(5000)\n",
    "nx.write_edgelist(sample_graph, \"twitter/twitterm5.txt\", data=False)"
   ]
  },
  {
   "cell_type": "code",
   "execution_count": null,
   "id": "suspected-portugal",
   "metadata": {},
   "outputs": [],
   "source": [
    "sample_graph = sample_connected_component(22000)\n",
    "nx.write_edgelist(sample_graph, \"twitter/twitterl2.txt\", data=False)"
   ]
  },
  {
   "cell_type": "code",
   "execution_count": null,
   "id": "sonic-brick",
   "metadata": {},
   "outputs": [],
   "source": [
    "sample_graph = sample_connected_component(23000)\n",
    "nx.write_edgelist(sample_graph, \"gplus/gplusl2.txt\", data=False)"
   ]
  },
  {
   "cell_type": "code",
   "execution_count": null,
   "id": "champion-philippines",
   "metadata": {},
   "outputs": [],
   "source": [
    "index_to_node"
   ]
  },
  {
   "cell_type": "code",
   "execution_count": null,
   "id": "agreed-conditioning",
   "metadata": {},
   "outputs": [],
   "source": [
    "properties"
   ]
  },
  {
   "cell_type": "code",
   "execution_count": null,
   "id": "leading-oakland",
   "metadata": {},
   "outputs": [],
   "source": [
    "import matplotlib.pyplot as plt\n",
    "plt.hist(properties)"
   ]
  },
  {
   "cell_type": "code",
   "execution_count": null,
   "id": "future-commission",
   "metadata": {},
   "outputs": [],
   "source": [
    "plt.hist()"
   ]
  },
  {
   "cell_type": "code",
   "execution_count": null,
   "id": "separate-intermediate",
   "metadata": {},
   "outputs": [],
   "source": []
  },
  {
   "cell_type": "code",
   "execution_count": null,
   "id": "continuing-stopping",
   "metadata": {},
   "outputs": [],
   "source": []
  }
 ],
 "metadata": {
  "kernelspec": {
   "display_name": "Python 3",
   "language": "python",
   "name": "python3"
  },
  "language_info": {
   "codemirror_mode": {
    "name": "ipython",
    "version": 3
   },
   "file_extension": ".py",
   "mimetype": "text/x-python",
   "name": "python",
   "nbconvert_exporter": "python",
   "pygments_lexer": "ipython3",
   "version": "3.8.5"
  }
 },
 "nbformat": 4,
 "nbformat_minor": 5
}
